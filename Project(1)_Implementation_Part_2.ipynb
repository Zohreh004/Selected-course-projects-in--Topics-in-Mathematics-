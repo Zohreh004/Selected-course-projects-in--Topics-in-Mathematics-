{
  "cells": [
    {
      "cell_type": "code",
      "execution_count": null,
      "id": "b022ea4e",
      "metadata": {
        "id": "b022ea4e",
        "outputId": "6c680d78-f7a6-4106-adef-0b6712f22091"
      },
      "outputs": [
        {
          "name": "stdout",
          "output_type": "stream",
          "text": [
            "Street ranking by PageRank:\n",
            "B3 0.0716028622159091\n",
            "A3 0.047894744318181824\n",
            "B2 0.04296860795454546\n",
            "E2 0.04174431818181819\n",
            "A2 0.02522727272727273\n",
            "D2 0.02522727272727273\n",
            "A1 0.01363636363636364\n",
            "B1 0.01363636363636364\n",
            "D1 0.01363636363636364\n",
            "E1 0.01363636363636364\n",
            "E3 0.01363636363636364\n"
          ]
        }
      ],
      "source": [
        "\n",
        "nodes = [\"A1\", \"A2\", \"A3\", \"B1\", \"B2\", \"B3\", \"D1\", \"D2\", \"E1\", \"E2\", \"E3\"]\n",
        "\n",
        "edges = [\n",
        "    (\"A1\", \"A2\"),  # A1 → A2\n",
        "    (\"A1\", \"D2\"),  # A1 → D2\n",
        "\n",
        "    (\"A2\", \"E2\"),  # A2 → E2\n",
        "    (\"A2\", \"A3\"),  # A2 → A3\n",
        "\n",
        "    (\"B1\", \"E2\"),  # B1 → E2\n",
        "    (\"B1\", \"B2\"),  # B1 → B2\n",
        "\n",
        "    (\"B2\", \"B3\"),  # B2 → B3\n",
        "\n",
        "    (\"D1\", \"A2\"),  # D1 → A2\n",
        "    (\"D1\", \"D2\"),  # D1 → D2\n",
        "\n",
        "    (\"D2\", \"B3\"),  # D2 → B3\n",
        "\n",
        "    (\"E1\", \"E2\"),  # E1 → E2\n",
        "    (\"E1\", \"A3\"),  # E1 → A3\n",
        "\n",
        "    (\"E2\", \"A3\"),  # E2 → A3\n",
        "    (\"E2\", \"B2\"),  # E2 → B2\n",
        "\n",
        "    (\"E3\", \"E2\"),  # E3 → E2\n",
        "    (\"E3\", \"B2\")   # E3 → B2\n",
        "]\n",
        "\n",
        "outlinks = {}\n",
        "for node in nodes:\n",
        "    outlinks[node] = []\n",
        "\n",
        "for source, target in edges:\n",
        "    outlinks[source].append(target)\n",
        "\n",
        "N = len(nodes)\n",
        "\n",
        "pagerank = {}\n",
        "for node in nodes:\n",
        "    pagerank[node] = 1.0 / N\n",
        "\n",
        "d = 0.85\n",
        "num_iterations = 20\n",
        "\n",
        "for i in range(num_iterations):\n",
        "    new_pagerank = {}\n",
        "    for node in nodes:\n",
        "        sum_pr = 0.0\n",
        "        for src in nodes:\n",
        "            if node in outlinks[src]:\n",
        "                if len(outlinks[src]) > 0:\n",
        "                    sum_pr += pagerank[src] / len(outlinks[src])\n",
        "        new_pagerank[node] = (1 - d) / N + d * sum_pr\n",
        "    pagerank = new_pagerank\n",
        "\n",
        "sorted_pagerank = sorted(pagerank.items(), key=lambda x: x[1], reverse=True)\n",
        "print(\"Street ranking by PageRank:\")\n",
        "for node, score in sorted_pagerank:\n",
        "    print(node, score)\n"
      ]
    }
  ],
  "metadata": {
    "kernelspec": {
      "display_name": "Python 3 (ipykernel)",
      "language": "python",
      "name": "python3"
    },
    "language_info": {
      "codemirror_mode": {
        "name": "ipython",
        "version": 3
      },
      "file_extension": ".py",
      "mimetype": "text/x-python",
      "name": "python",
      "nbconvert_exporter": "python",
      "pygments_lexer": "ipython3",
      "version": "3.9.7"
    },
    "colab": {
      "provenance": []
    }
  },
  "nbformat": 4,
  "nbformat_minor": 5
}