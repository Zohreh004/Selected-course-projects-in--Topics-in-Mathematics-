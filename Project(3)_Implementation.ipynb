{
  "nbformat": 4,
  "nbformat_minor": 0,
  "metadata": {
    "colab": {
      "provenance": []
    },
    "kernelspec": {
      "name": "python3",
      "display_name": "Python 3"
    },
    "language_info": {
      "name": "python"
    }
  },
  "cells": [
    {
      "cell_type": "markdown",
      "source": [
        "#Load and View Newsgroups Data"
      ],
      "metadata": {
        "id": "FrTZHa3k7FKS"
      }
    },
    {
      "cell_type": "code",
      "execution_count": null,
      "metadata": {
        "id": "Kqgoq1xazANw"
      },
      "outputs": [],
      "source": [
        "from sklearn.datasets import fetch_20newsgroups\n",
        "\n",
        "def load_newsgroup_data(categories=None, subset='train'):\n",
        "    newsgroups = fetch_20newsgroups(categories=categories, subset=subset)\n",
        "    return newsgroups\n",
        "\n",
        "categories = ['comp.graphics', 'talk.politics.guns', 'alt.atheism', 'sci.med', 'sci.space']\n",
        "data = load_newsgroup_data(categories)\n"
      ]
    },
    {
      "cell_type": "markdown",
      "source": [
        "#Text Preprocessing"
      ],
      "metadata": {
        "id": "88biIcv97F2q"
      }
    },
    {
      "cell_type": "code",
      "source": [
        "import nltk\n",
        "import re\n",
        "import string\n",
        "from nltk.corpus import stopwords\n",
        "\n",
        "nltk.download('stopwords')\n",
        "\n",
        "def preprocess(text):\n",
        "    text = text.lower()\n",
        "    text = re.sub(r'\\d+', '', text)\n",
        "    text = text.translate(str.maketrans('', '', string.punctuation))\n",
        "    tokens = text.split()\n",
        "    tokens = [word for word in tokens if word not in stopwords.words('english')]\n",
        "    return ' '.join(tokens)\n",
        "\n",
        "processed_data = [preprocess(doc) for doc in data.data]\n",
        "print(processed_data[0])\n"
      ],
      "metadata": {
        "colab": {
          "base_uri": "https://localhost:8080/"
        },
        "id": "6Atlk0P9zUyd",
        "outputId": "f25832d2-1b65-4d7c-f474-2c35888502f0"
      },
      "execution_count": null,
      "outputs": [
        {
          "output_type": "stream",
          "name": "stderr",
          "text": [
            "[nltk_data] Downloading package stopwords to /root/nltk_data...\n",
            "[nltk_data]   Package stopwords is already up-to-date!\n"
          ]
        },
        {
          "output_type": "stream",
          "name": "stdout",
          "text": [
            "mhamiltonimitzmcskentedu lawnmowerman subject atf burns dividian ranch survivors keywords nata thing nntppostinghost nimitzmcskentedu replyto matthew hamilton organization kent state university cs lines article rjlttransferstratuscom cdtswstratuscom c tavares writes article aprmcskentedu mhamiltonimitzmcskentedu lawnmowerman writes oh guess shooting kind babies right sick bastard cdtrocketswstratuscom believe speak company cdtvosstratuscom write today special investors packet thanks reply post way never never ever said right shoot kind babies however branch davidian people insisted staying savior yeah right budy boy brainwashed believing ever says truth even means give lives cause therefore davids fault atfs gave days get days many many rest us however sad hear death child unlike sick bastard supposedly matthew r hamilton mhamiltomcskentedu aka cs physics major hksuvxbkentedu lawnmowerman kent state university hksuvxbkentedu look future advicequotessayingsjibberishphilosohy\n"
          ]
        }
      ]
    },
    {
      "cell_type": "markdown",
      "source": [
        "#TF-IDF Vectorization"
      ],
      "metadata": {
        "id": "iGMxsnev7Gup"
      }
    },
    {
      "cell_type": "code",
      "source": [
        "from sklearn.feature_extraction.text import TfidfVectorizer\n",
        "\n",
        "vectorizer = TfidfVectorizer()\n",
        "X = vectorizer.fit_transform(processed_data)\n",
        "print(X.shape)\n"
      ],
      "metadata": {
        "colab": {
          "base_uri": "https://localhost:8080/"
        },
        "id": "xvb2VpOhzYg2",
        "outputId": "5a10ada3-76f5-420d-a4ea-bccb60d8585d"
      },
      "execution_count": null,
      "outputs": [
        {
          "output_type": "stream",
          "name": "stdout",
          "text": [
            "(2797, 41964)\n"
          ]
        }
      ]
    },
    {
      "cell_type": "markdown",
      "source": [
        "#NMF Clustering"
      ],
      "metadata": {
        "id": "wgHQ7Fuy7HyW"
      }
    },
    {
      "cell_type": "code",
      "source": [
        "from sklearn.decomposition import NMF\n",
        "import numpy as np\n",
        "import pandas as pd\n",
        "\n",
        "nmf = NMF(n_components=5, random_state=42)\n",
        "W = nmf.fit_transform(X)\n",
        "H = nmf.components_\n",
        "\n",
        "nmf_labels = np.argmax(W, axis=1)\n",
        "\n",
        "target_names = data.target_names\n",
        "true_categories = [target_names[label] for label in data.target]\n",
        "\n",
        "nmf_df = pd.DataFrame({\n",
        "    'Document Index': np.arange(len(nmf_labels)),\n",
        "    'Predicted Cluster (NMF)': nmf_labels,\n",
        "    'True Category': true_categories\n",
        "})\n",
        "\n",
        "print(nmf_df.head(20))\n"
      ],
      "metadata": {
        "colab": {
          "base_uri": "https://localhost:8080/"
        },
        "id": "ChTZVx3czbms",
        "outputId": "8a9b9382-c019-4e2a-a377-73db9a457dd2"
      },
      "execution_count": null,
      "outputs": [
        {
          "output_type": "stream",
          "name": "stdout",
          "text": [
            "    Document Index  Predicted Cluster (NMF)       True Category\n",
            "0                0                        3  talk.politics.guns\n",
            "1                1                        2       comp.graphics\n",
            "2                2                        2           sci.space\n",
            "3                3                        2           sci.space\n",
            "4                4                        3  talk.politics.guns\n",
            "5                5                        3           sci.space\n",
            "6                6                        4             sci.med\n",
            "7                7                        3  talk.politics.guns\n",
            "8                8                        3  talk.politics.guns\n",
            "9                9                        3             sci.med\n",
            "10              10                        2       comp.graphics\n",
            "11              11                        2           sci.space\n",
            "12              12                        2       comp.graphics\n",
            "13              13                        2           sci.space\n",
            "14              14                        0         alt.atheism\n",
            "15              15                        2             sci.med\n",
            "16              16                        2             sci.med\n",
            "17              17                        4             sci.med\n",
            "18              18                        0         alt.atheism\n",
            "19              19                        3  talk.politics.guns\n"
          ]
        }
      ]
    },
    {
      "cell_type": "markdown",
      "source": [
        "#Manual KMeans Clustering"
      ],
      "metadata": {
        "id": "I7yXzXYd7Iu_"
      }
    },
    {
      "cell_type": "code",
      "source": [
        "def kmeans_custom(X, n_clusters, max_iter=100, random_state=42):\n",
        "    np.random.seed(random_state)\n",
        "    initial_idx = np.random.choice(X.shape[0], n_clusters, replace=False)\n",
        "    centroids = X[initial_idx]\n",
        "\n",
        "    for _ in range(max_iter):\n",
        "        distances = np.linalg.norm(X[:, None] - centroids, axis=2)\n",
        "        labels = np.argmin(distances, axis=1)\n",
        "        new_centroids = np.array([X[labels == i].mean(axis=0) for i in range(n_clusters)])\n",
        "        if np.allclose(centroids, new_centroids, atol=1e-4):\n",
        "            break\n",
        "        centroids = new_centroids\n",
        "    return labels\n",
        "\n",
        "X_array = X.toarray()\n",
        "custom_kmeans_labels = kmeans_custom(X_array, n_clusters=5)\n",
        "\n",
        "custom_kmeans_df = pd.DataFrame({\n",
        "    'Document Index': np.arange(len(custom_kmeans_labels)),\n",
        "    'Predicted Cluster (Custom KMeans)': custom_kmeans_labels,\n",
        "    'True Category': true_categories\n",
        "})\n",
        "\n",
        "print(custom_kmeans_df.head(20))\n"
      ],
      "metadata": {
        "colab": {
          "base_uri": "https://localhost:8080/"
        },
        "id": "33HQJODlzeHR",
        "outputId": "d76e51e6-46e0-45fa-c9f1-b3de270b7579"
      },
      "execution_count": null,
      "outputs": [
        {
          "output_type": "stream",
          "name": "stdout",
          "text": [
            "    Document Index  Predicted Cluster (Custom KMeans)       True Category\n",
            "0                0                                  1  talk.politics.guns\n",
            "1                1                                  0       comp.graphics\n",
            "2                2                                  0           sci.space\n",
            "3                3                                  0           sci.space\n",
            "4                4                                  1  talk.politics.guns\n",
            "5                5                                  0           sci.space\n",
            "6                6                                  1             sci.med\n",
            "7                7                                  1  talk.politics.guns\n",
            "8                8                                  1  talk.politics.guns\n",
            "9                9                                  0             sci.med\n",
            "10              10                                  0       comp.graphics\n",
            "11              11                                  0           sci.space\n",
            "12              12                                  0       comp.graphics\n",
            "13              13                                  4           sci.space\n",
            "14              14                                  1         alt.atheism\n",
            "15              15                                  0             sci.med\n",
            "16              16                                  0             sci.med\n",
            "17              17                                  1             sci.med\n",
            "18              18                                  1         alt.atheism\n",
            "19              19                                  3  talk.politics.guns\n"
          ]
        }
      ]
    },
    {
      "cell_type": "markdown",
      "source": [
        "#Scikit-Learn KMeans Clustering"
      ],
      "metadata": {
        "id": "80EOCm1Y7J1v"
      }
    },
    {
      "cell_type": "code",
      "source": [
        "from sklearn.cluster import KMeans\n",
        "\n",
        "kmeans = KMeans(n_clusters=5, random_state=42)\n",
        "kmeans_labels = kmeans.fit_predict(X)\n",
        "\n",
        "kmeans_df = pd.DataFrame({\n",
        "    'Document Index': np.arange(len(kmeans_labels)),\n",
        "    'Predicted Cluster (Sklearn KMeans)': kmeans_labels,\n",
        "    'True Category': true_categories\n",
        "})\n",
        "\n",
        "print(kmeans_df.head(20))\n"
      ],
      "metadata": {
        "colab": {
          "base_uri": "https://localhost:8080/"
        },
        "id": "GU32AoXvzgnC",
        "outputId": "cac82d5b-869d-4a0f-e7f9-5612943aee87"
      },
      "execution_count": null,
      "outputs": [
        {
          "output_type": "stream",
          "name": "stdout",
          "text": [
            "    Document Index  Predicted Cluster (Sklearn KMeans)       True Category\n",
            "0                0                                   3  talk.politics.guns\n",
            "1                1                                   2       comp.graphics\n",
            "2                2                                   1           sci.space\n",
            "3                3                                   1           sci.space\n",
            "4                4                                   3  talk.politics.guns\n",
            "5                5                                   1           sci.space\n",
            "6                6                                   0             sci.med\n",
            "7                7                                   3  talk.politics.guns\n",
            "8                8                                   3  talk.politics.guns\n",
            "9                9                                   1             sci.med\n",
            "10              10                                   2       comp.graphics\n",
            "11              11                                   1           sci.space\n",
            "12              12                                   2       comp.graphics\n",
            "13              13                                   1           sci.space\n",
            "14              14                                   0         alt.atheism\n",
            "15              15                                   1             sci.med\n",
            "16              16                                   1             sci.med\n",
            "17              17                                   0             sci.med\n",
            "18              18                                   0         alt.atheism\n",
            "19              19                                   3  talk.politics.guns\n"
          ]
        }
      ]
    },
    {
      "cell_type": "markdown",
      "source": [
        "#Final Comparison of All Methods"
      ],
      "metadata": {
        "id": "rQpz44I-7Knx"
      }
    },
    {
      "cell_type": "code",
      "source": [
        "from sklearn.metrics import adjusted_rand_score, adjusted_mutual_info_score, silhouette_score\n",
        "import pandas as pd\n",
        "\n",
        "ari_nmf = adjusted_rand_score(data.target, nmf_labels)\n",
        "ami_nmf = adjusted_mutual_info_score(data.target, nmf_labels)\n",
        "silhouette_nmf = silhouette_score(X, nmf_labels)\n",
        "\n",
        "ari_custom = adjusted_rand_score(data.target, custom_kmeans_labels)\n",
        "ami_custom = adjusted_mutual_info_score(data.target, custom_kmeans_labels)\n",
        "silhouette_custom = silhouette_score(X, custom_kmeans_labels)\n",
        "\n",
        "ari_kmeans = adjusted_rand_score(data.target, kmeans_labels)\n",
        "ami_kmeans = adjusted_mutual_info_score(data.target, kmeans_labels)\n",
        "silhouette_kmeans = silhouette_score(X, kmeans_labels)\n",
        "\n",
        "results = pd.DataFrame({\n",
        "    'Method': ['NMF', 'Custom KMeans', 'Sklearn KMeans'],\n",
        "    'ARI': [ari_nmf, ari_custom, ari_kmeans],\n",
        "    'AMI': [ami_nmf, ami_custom, ami_kmeans],\n",
        "    'Silhouette': [silhouette_nmf, silhouette_custom, silhouette_kmeans]\n",
        "})\n",
        "\n",
        "print(results)\n"
      ],
      "metadata": {
        "colab": {
          "base_uri": "https://localhost:8080/"
        },
        "id": "Cq0Y5VyPzjYh",
        "outputId": "2c0afe44-067f-40ee-f6c9-20fd5b3ab6a0"
      },
      "execution_count": null,
      "outputs": [
        {
          "output_type": "stream",
          "name": "stdout",
          "text": [
            "           Method       ARI       AMI  Silhouette\n",
            "0             NMF  0.401679  0.556622    0.006952\n",
            "1   Custom KMeans  0.335531  0.463245    0.006565\n",
            "2  Sklearn KMeans  0.483305  0.604758    0.006843\n"
          ]
        }
      ]
    }
  ]
}