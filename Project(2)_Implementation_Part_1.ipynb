{
  "cells": [
    {
      "cell_type": "markdown",
      "source": [
        "#Loading the dataset"
      ],
      "metadata": {
        "id": "BDHiyKBqUuyH"
      }
    },
    {
      "cell_type": "code",
      "source": [
        "from google.colab import files\n",
        "\n",
        "uploaded = files.upload()\n"
      ],
      "metadata": {
        "colab": {
          "base_uri": "https://localhost:8080/",
          "height": 218
        },
        "id": "aUTqFLgZ5hgA",
        "outputId": "96660685-f81e-437a-baf0-4e5f4dcf791a"
      },
      "execution_count": null,
      "outputs": [
        {
          "output_type": "display_data",
          "data": {
            "text/plain": [
              "<IPython.core.display.HTML object>"
            ],
            "text/html": [
              "\n",
              "     <input type=\"file\" id=\"files-c36372a3-b87d-414f-82b5-a5454a0730e3\" name=\"files[]\" multiple disabled\n",
              "        style=\"border:none\" />\n",
              "     <output id=\"result-c36372a3-b87d-414f-82b5-a5454a0730e3\">\n",
              "      Upload widget is only available when the cell has been executed in the\n",
              "      current browser session. Please rerun this cell to enable.\n",
              "      </output>\n",
              "      <script>// Copyright 2017 Google LLC\n",
              "//\n",
              "// Licensed under the Apache License, Version 2.0 (the \"License\");\n",
              "// you may not use this file except in compliance with the License.\n",
              "// You may obtain a copy of the License at\n",
              "//\n",
              "//      http://www.apache.org/licenses/LICENSE-2.0\n",
              "//\n",
              "// Unless required by applicable law or agreed to in writing, software\n",
              "// distributed under the License is distributed on an \"AS IS\" BASIS,\n",
              "// WITHOUT WARRANTIES OR CONDITIONS OF ANY KIND, either express or implied.\n",
              "// See the License for the specific language governing permissions and\n",
              "// limitations under the License.\n",
              "\n",
              "/**\n",
              " * @fileoverview Helpers for google.colab Python module.\n",
              " */\n",
              "(function(scope) {\n",
              "function span(text, styleAttributes = {}) {\n",
              "  const element = document.createElement('span');\n",
              "  element.textContent = text;\n",
              "  for (const key of Object.keys(styleAttributes)) {\n",
              "    element.style[key] = styleAttributes[key];\n",
              "  }\n",
              "  return element;\n",
              "}\n",
              "\n",
              "// Max number of bytes which will be uploaded at a time.\n",
              "const MAX_PAYLOAD_SIZE = 100 * 1024;\n",
              "\n",
              "function _uploadFiles(inputId, outputId) {\n",
              "  const steps = uploadFilesStep(inputId, outputId);\n",
              "  const outputElement = document.getElementById(outputId);\n",
              "  // Cache steps on the outputElement to make it available for the next call\n",
              "  // to uploadFilesContinue from Python.\n",
              "  outputElement.steps = steps;\n",
              "\n",
              "  return _uploadFilesContinue(outputId);\n",
              "}\n",
              "\n",
              "// This is roughly an async generator (not supported in the browser yet),\n",
              "// where there are multiple asynchronous steps and the Python side is going\n",
              "// to poll for completion of each step.\n",
              "// This uses a Promise to block the python side on completion of each step,\n",
              "// then passes the result of the previous step as the input to the next step.\n",
              "function _uploadFilesContinue(outputId) {\n",
              "  const outputElement = document.getElementById(outputId);\n",
              "  const steps = outputElement.steps;\n",
              "\n",
              "  const next = steps.next(outputElement.lastPromiseValue);\n",
              "  return Promise.resolve(next.value.promise).then((value) => {\n",
              "    // Cache the last promise value to make it available to the next\n",
              "    // step of the generator.\n",
              "    outputElement.lastPromiseValue = value;\n",
              "    return next.value.response;\n",
              "  });\n",
              "}\n",
              "\n",
              "/**\n",
              " * Generator function which is called between each async step of the upload\n",
              " * process.\n",
              " * @param {string} inputId Element ID of the input file picker element.\n",
              " * @param {string} outputId Element ID of the output display.\n",
              " * @return {!Iterable<!Object>} Iterable of next steps.\n",
              " */\n",
              "function* uploadFilesStep(inputId, outputId) {\n",
              "  const inputElement = document.getElementById(inputId);\n",
              "  inputElement.disabled = false;\n",
              "\n",
              "  const outputElement = document.getElementById(outputId);\n",
              "  outputElement.innerHTML = '';\n",
              "\n",
              "  const pickedPromise = new Promise((resolve) => {\n",
              "    inputElement.addEventListener('change', (e) => {\n",
              "      resolve(e.target.files);\n",
              "    });\n",
              "  });\n",
              "\n",
              "  const cancel = document.createElement('button');\n",
              "  inputElement.parentElement.appendChild(cancel);\n",
              "  cancel.textContent = 'Cancel upload';\n",
              "  const cancelPromise = new Promise((resolve) => {\n",
              "    cancel.onclick = () => {\n",
              "      resolve(null);\n",
              "    };\n",
              "  });\n",
              "\n",
              "  // Wait for the user to pick the files.\n",
              "  const files = yield {\n",
              "    promise: Promise.race([pickedPromise, cancelPromise]),\n",
              "    response: {\n",
              "      action: 'starting',\n",
              "    }\n",
              "  };\n",
              "\n",
              "  cancel.remove();\n",
              "\n",
              "  // Disable the input element since further picks are not allowed.\n",
              "  inputElement.disabled = true;\n",
              "\n",
              "  if (!files) {\n",
              "    return {\n",
              "      response: {\n",
              "        action: 'complete',\n",
              "      }\n",
              "    };\n",
              "  }\n",
              "\n",
              "  for (const file of files) {\n",
              "    const li = document.createElement('li');\n",
              "    li.append(span(file.name, {fontWeight: 'bold'}));\n",
              "    li.append(span(\n",
              "        `(${file.type || 'n/a'}) - ${file.size} bytes, ` +\n",
              "        `last modified: ${\n",
              "            file.lastModifiedDate ? file.lastModifiedDate.toLocaleDateString() :\n",
              "                                    'n/a'} - `));\n",
              "    const percent = span('0% done');\n",
              "    li.appendChild(percent);\n",
              "\n",
              "    outputElement.appendChild(li);\n",
              "\n",
              "    const fileDataPromise = new Promise((resolve) => {\n",
              "      const reader = new FileReader();\n",
              "      reader.onload = (e) => {\n",
              "        resolve(e.target.result);\n",
              "      };\n",
              "      reader.readAsArrayBuffer(file);\n",
              "    });\n",
              "    // Wait for the data to be ready.\n",
              "    let fileData = yield {\n",
              "      promise: fileDataPromise,\n",
              "      response: {\n",
              "        action: 'continue',\n",
              "      }\n",
              "    };\n",
              "\n",
              "    // Use a chunked sending to avoid message size limits. See b/62115660.\n",
              "    let position = 0;\n",
              "    do {\n",
              "      const length = Math.min(fileData.byteLength - position, MAX_PAYLOAD_SIZE);\n",
              "      const chunk = new Uint8Array(fileData, position, length);\n",
              "      position += length;\n",
              "\n",
              "      const base64 = btoa(String.fromCharCode.apply(null, chunk));\n",
              "      yield {\n",
              "        response: {\n",
              "          action: 'append',\n",
              "          file: file.name,\n",
              "          data: base64,\n",
              "        },\n",
              "      };\n",
              "\n",
              "      let percentDone = fileData.byteLength === 0 ?\n",
              "          100 :\n",
              "          Math.round((position / fileData.byteLength) * 100);\n",
              "      percent.textContent = `${percentDone}% done`;\n",
              "\n",
              "    } while (position < fileData.byteLength);\n",
              "  }\n",
              "\n",
              "  // All done.\n",
              "  yield {\n",
              "    response: {\n",
              "      action: 'complete',\n",
              "    }\n",
              "  };\n",
              "}\n",
              "\n",
              "scope.google = scope.google || {};\n",
              "scope.google.colab = scope.google.colab || {};\n",
              "scope.google.colab._files = {\n",
              "  _uploadFiles,\n",
              "  _uploadFilesContinue,\n",
              "};\n",
              "})(self);\n",
              "</script> "
            ]
          },
          "metadata": {}
        },
        {
          "output_type": "stream",
          "name": "stdout",
          "text": [
            "Saving emnist-letters-test-images-idx3-ubyte to emnist-letters-test-images-idx3-ubyte\n",
            "Saving emnist-letters-test-labels-idx1-ubyte to emnist-letters-test-labels-idx1-ubyte\n",
            "Saving emnist-letters-train-images-idx3-ubyte to emnist-letters-train-images-idx3-ubyte\n",
            "Saving emnist-letters-train-labels-idx1-ubyte to emnist-letters-train-labels-idx1-ubyte\n"
          ]
        }
      ]
    },
    {
      "cell_type": "markdown",
      "source": [
        "#Reading the data"
      ],
      "metadata": {
        "id": "ZvDr5ytSU9ga"
      }
    },
    {
      "cell_type": "code",
      "source": [
        "import numpy as np\n",
        "import os\n",
        "\n",
        "def load_emnist_images(filename):\n",
        "    with open(filename, 'rb') as f:\n",
        "        data = np.frombuffer(f.read(), np.uint8, offset=16)\n",
        "        return data.reshape(-1, 784)\n",
        "\n",
        "def load_emnist_labels(filename):\n",
        "    with open(filename, 'rb') as f:\n",
        "        data = np.frombuffer(f.read(), np.uint8, offset=8)\n",
        "        return data\n",
        "\n",
        "base_path = '/content/'\n",
        "train_images = load_emnist_images(base_path + 'emnist-letters-train-images-idx3-ubyte')\n",
        "train_labels = load_emnist_labels(base_path + 'emnist-letters-train-labels-idx1-ubyte')\n",
        "test_images = load_emnist_images(base_path + 'emnist-letters-test-images-idx3-ubyte')\n",
        "test_labels = load_emnist_labels(base_path + 'emnist-letters-test-labels-idx1-ubyte')"
      ],
      "metadata": {
        "id": "4YpkdD71RVUz"
      },
      "execution_count": null,
      "outputs": []
    },
    {
      "cell_type": "markdown",
      "source": [
        "#Preparing training and test data for each class"
      ],
      "metadata": {
        "id": "0rGIKnlGVPt6"
      }
    },
    {
      "cell_type": "code",
      "source": [
        "train_images = train_images / 255.0\n",
        "test_images = test_images / 255.0\n",
        "\n",
        "print(f\"Train images shape: {train_images.shape}\")\n",
        "print(f\"Train labels shape: {train_labels.shape}\")\n",
        "print(f\"Test images shape: {test_images.shape}\")\n",
        "print(f\"Test labels shape: {test_labels.shape}\")\n",
        "\n",
        "num_classes = 26\n",
        "train_data = {}\n",
        "test_data = {}\n",
        "for cls in range(1, num_classes + 1):\n",
        "    train_idx = np.where(train_labels == cls)[0][:200]\n",
        "    test_idx = np.where(test_labels == cls)[0][:20]\n",
        "    train_data[cls - 1] = train_images[train_idx].T\n",
        "    test_data[cls - 1] = test_images[test_idx].T\n",
        "test_labels_filtered = np.array([cls - 1 for cls in range(1, num_classes + 1) for _ in range(20)])"
      ],
      "metadata": {
        "colab": {
          "base_uri": "https://localhost:8080/"
        },
        "id": "CqzdOhf8VaGV",
        "outputId": "f7b334e5-47fb-45a5-a416-0f1a810926f8"
      },
      "execution_count": null,
      "outputs": [
        {
          "output_type": "stream",
          "name": "stdout",
          "text": [
            "Train images shape: (124800, 784)\n",
            "Train labels shape: (124800,)\n",
            "Test images shape: (20800, 784)\n",
            "Test labels shape: (20800,)\n"
          ]
        }
      ]
    },
    {
      "cell_type": "markdown",
      "source": [
        "# Calculating QR decomposition for each class using the Householder matrix"
      ],
      "metadata": {
        "id": "jNVX9nioWJtK"
      }
    },
    {
      "cell_type": "code",
      "source": [
        "def householder_qr(A):\n",
        "    m, n = A.shape\n",
        "    Q = np.eye(m)\n",
        "    R = A.copy()\n",
        "    for j in range(n):\n",
        "        x = R[j:, j]\n",
        "        v = x.copy()\n",
        "        v[0] += np.sign(x[0]) * np.linalg.norm(x)\n",
        "        v = v / np.linalg.norm(v)\n",
        "        H = np.eye(m)\n",
        "        H[j:, j:] -= 2 * np.outer(v, v)\n",
        "        R = H @ R\n",
        "        Q = Q @ H.T\n",
        "    return Q, R\n",
        "\n",
        "qr_cache = {}\n",
        "for class_idx, A in train_data.items():\n",
        "    Q, R = householder_qr(A)\n",
        "    qr_cache[class_idx] = (Q, R)"
      ],
      "metadata": {
        "id": "osZQQLZ4Vanh"
      },
      "execution_count": null,
      "outputs": []
    },
    {
      "cell_type": "markdown",
      "source": [
        "# Solving the least squares problem to predict the labels of test data"
      ],
      "metadata": {
        "id": "LwnmC46xWloD"
      }
    },
    {
      "cell_type": "code",
      "source": [
        "def predict_label(test_sample, train_matrices, qr_cache):\n",
        "    errors = []\n",
        "    for class_idx, A in train_matrices.items():\n",
        "        Q, R = qr_cache[class_idx]\n",
        "        b = Q.T @ test_sample\n",
        "        c, _, _, _ = np.linalg.lstsq(R[:200, :200], b[:200], rcond=None)\n",
        "        error = np.linalg.norm(A @ c - test_sample)\n",
        "        errors.append((error, class_idx))\n",
        "    return min(errors, key=lambda x: x[0])[1]"
      ],
      "metadata": {
        "id": "tAt4IWwkVa07"
      },
      "execution_count": null,
      "outputs": []
    },
    {
      "cell_type": "markdown",
      "source": [
        "# Evaluating the model's performance"
      ],
      "metadata": {
        "id": "Ux51Pb_rW561"
      }
    },
    {
      "cell_type": "code",
      "source": [
        "correct = 0\n",
        "for i in range(num_classes):\n",
        "    for j in range(20):\n",
        "        test_sample = test_data[i][:, j]\n",
        "        pred_label = predict_label(test_sample, train_data, qr_cache)\n",
        "        if pred_label == i:\n",
        "            correct += 1\n",
        "\n",
        "accuracy = correct / (20 * num_classes)\n",
        "print(f\"Model accuracy: {accuracy * 100:.2f}%\")"
      ],
      "metadata": {
        "colab": {
          "base_uri": "https://localhost:8080/"
        },
        "id": "UY-JNyHZVxZc",
        "outputId": "15a53976-5bd5-494a-abfa-78cddb0c1317"
      },
      "execution_count": null,
      "outputs": [
        {
          "output_type": "stream",
          "name": "stdout",
          "text": [
            "Model accuracy: 68.65%\n"
          ]
        }
      ]
    }
  ],
  "metadata": {
    "colab": {
      "provenance": []
    },
    "kernelspec": {
      "display_name": "Python 3",
      "name": "python3"
    },
    "language_info": {
      "name": "python"
    }
  },
  "nbformat": 4,
  "nbformat_minor": 0
}