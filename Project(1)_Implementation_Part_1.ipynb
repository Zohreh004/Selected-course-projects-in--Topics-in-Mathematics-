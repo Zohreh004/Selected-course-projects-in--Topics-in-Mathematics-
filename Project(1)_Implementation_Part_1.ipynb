{
  "nbformat": 4,
  "nbformat_minor": 0,
  "metadata": {
    "colab": {
      "provenance": []
    },
    "kernelspec": {
      "name": "python3",
      "display_name": "Python 3"
    },
    "language_info": {
      "name": "python"
    }
  },
  "cells": [
    {
      "cell_type": "markdown",
      "source": [
        "#Downloading Dataset"
      ],
      "metadata": {
        "id": "K2S12reWyFwe"
      }
    },
    {
      "cell_type": "code",
      "source": [
        "!pip install kaggle\n",
        "!mkdir -p ~/.kaggle\n",
        "from google.colab import files\n",
        "files.upload()\n",
        "!cp kaggle.json ~/.kaggle/\n",
        "!chmod 600 ~/.kaggle/kaggle.json\n",
        "!kaggle datasets download wolfram77/graphs-snap-web\n",
        "!unzip graphs-snap-web.zip -d graphs-snap-web"
      ],
      "metadata": {
        "colab": {
          "base_uri": "https://localhost:8080/",
          "height": 455
        },
        "id": "Av0SZonen5yw",
        "outputId": "d9b28cc7-d3ed-495b-ceb7-9ff4012bd633"
      },
      "execution_count": null,
      "outputs": [
        {
          "output_type": "stream",
          "name": "stdout",
          "text": [
            "Requirement already satisfied: kaggle in /usr/local/lib/python3.11/dist-packages (1.6.17)\n",
            "Requirement already satisfied: six>=1.10 in /usr/local/lib/python3.11/dist-packages (from kaggle) (1.17.0)\n",
            "Requirement already satisfied: certifi>=2023.7.22 in /usr/local/lib/python3.11/dist-packages (from kaggle) (2025.1.31)\n",
            "Requirement already satisfied: python-dateutil in /usr/local/lib/python3.11/dist-packages (from kaggle) (2.8.2)\n",
            "Requirement already satisfied: requests in /usr/local/lib/python3.11/dist-packages (from kaggle) (2.32.3)\n",
            "Requirement already satisfied: tqdm in /usr/local/lib/python3.11/dist-packages (from kaggle) (4.67.1)\n",
            "Requirement already satisfied: python-slugify in /usr/local/lib/python3.11/dist-packages (from kaggle) (8.0.4)\n",
            "Requirement already satisfied: urllib3 in /usr/local/lib/python3.11/dist-packages (from kaggle) (2.3.0)\n",
            "Requirement already satisfied: bleach in /usr/local/lib/python3.11/dist-packages (from kaggle) (6.2.0)\n",
            "Requirement already satisfied: webencodings in /usr/local/lib/python3.11/dist-packages (from bleach->kaggle) (0.5.1)\n",
            "Requirement already satisfied: text-unidecode>=1.3 in /usr/local/lib/python3.11/dist-packages (from python-slugify->kaggle) (1.3)\n",
            "Requirement already satisfied: charset-normalizer<4,>=2 in /usr/local/lib/python3.11/dist-packages (from requests->kaggle) (3.4.1)\n",
            "Requirement already satisfied: idna<4,>=2.5 in /usr/local/lib/python3.11/dist-packages (from requests->kaggle) (3.10)\n"
          ]
        },
        {
          "output_type": "display_data",
          "data": {
            "text/plain": [
              "<IPython.core.display.HTML object>"
            ],
            "text/html": [
              "\n",
              "     <input type=\"file\" id=\"files-2dd940d1-c239-48b9-94aa-2100e16c28b4\" name=\"files[]\" multiple disabled\n",
              "        style=\"border:none\" />\n",
              "     <output id=\"result-2dd940d1-c239-48b9-94aa-2100e16c28b4\">\n",
              "      Upload widget is only available when the cell has been executed in the\n",
              "      current browser session. Please rerun this cell to enable.\n",
              "      </output>\n",
              "      <script>// Copyright 2017 Google LLC\n",
              "//\n",
              "// Licensed under the Apache License, Version 2.0 (the \"License\");\n",
              "// you may not use this file except in compliance with the License.\n",
              "// You may obtain a copy of the License at\n",
              "//\n",
              "//      http://www.apache.org/licenses/LICENSE-2.0\n",
              "//\n",
              "// Unless required by applicable law or agreed to in writing, software\n",
              "// distributed under the License is distributed on an \"AS IS\" BASIS,\n",
              "// WITHOUT WARRANTIES OR CONDITIONS OF ANY KIND, either express or implied.\n",
              "// See the License for the specific language governing permissions and\n",
              "// limitations under the License.\n",
              "\n",
              "/**\n",
              " * @fileoverview Helpers for google.colab Python module.\n",
              " */\n",
              "(function(scope) {\n",
              "function span(text, styleAttributes = {}) {\n",
              "  const element = document.createElement('span');\n",
              "  element.textContent = text;\n",
              "  for (const key of Object.keys(styleAttributes)) {\n",
              "    element.style[key] = styleAttributes[key];\n",
              "  }\n",
              "  return element;\n",
              "}\n",
              "\n",
              "// Max number of bytes which will be uploaded at a time.\n",
              "const MAX_PAYLOAD_SIZE = 100 * 1024;\n",
              "\n",
              "function _uploadFiles(inputId, outputId) {\n",
              "  const steps = uploadFilesStep(inputId, outputId);\n",
              "  const outputElement = document.getElementById(outputId);\n",
              "  // Cache steps on the outputElement to make it available for the next call\n",
              "  // to uploadFilesContinue from Python.\n",
              "  outputElement.steps = steps;\n",
              "\n",
              "  return _uploadFilesContinue(outputId);\n",
              "}\n",
              "\n",
              "// This is roughly an async generator (not supported in the browser yet),\n",
              "// where there are multiple asynchronous steps and the Python side is going\n",
              "// to poll for completion of each step.\n",
              "// This uses a Promise to block the python side on completion of each step,\n",
              "// then passes the result of the previous step as the input to the next step.\n",
              "function _uploadFilesContinue(outputId) {\n",
              "  const outputElement = document.getElementById(outputId);\n",
              "  const steps = outputElement.steps;\n",
              "\n",
              "  const next = steps.next(outputElement.lastPromiseValue);\n",
              "  return Promise.resolve(next.value.promise).then((value) => {\n",
              "    // Cache the last promise value to make it available to the next\n",
              "    // step of the generator.\n",
              "    outputElement.lastPromiseValue = value;\n",
              "    return next.value.response;\n",
              "  });\n",
              "}\n",
              "\n",
              "/**\n",
              " * Generator function which is called between each async step of the upload\n",
              " * process.\n",
              " * @param {string} inputId Element ID of the input file picker element.\n",
              " * @param {string} outputId Element ID of the output display.\n",
              " * @return {!Iterable<!Object>} Iterable of next steps.\n",
              " */\n",
              "function* uploadFilesStep(inputId, outputId) {\n",
              "  const inputElement = document.getElementById(inputId);\n",
              "  inputElement.disabled = false;\n",
              "\n",
              "  const outputElement = document.getElementById(outputId);\n",
              "  outputElement.innerHTML = '';\n",
              "\n",
              "  const pickedPromise = new Promise((resolve) => {\n",
              "    inputElement.addEventListener('change', (e) => {\n",
              "      resolve(e.target.files);\n",
              "    });\n",
              "  });\n",
              "\n",
              "  const cancel = document.createElement('button');\n",
              "  inputElement.parentElement.appendChild(cancel);\n",
              "  cancel.textContent = 'Cancel upload';\n",
              "  const cancelPromise = new Promise((resolve) => {\n",
              "    cancel.onclick = () => {\n",
              "      resolve(null);\n",
              "    };\n",
              "  });\n",
              "\n",
              "  // Wait for the user to pick the files.\n",
              "  const files = yield {\n",
              "    promise: Promise.race([pickedPromise, cancelPromise]),\n",
              "    response: {\n",
              "      action: 'starting',\n",
              "    }\n",
              "  };\n",
              "\n",
              "  cancel.remove();\n",
              "\n",
              "  // Disable the input element since further picks are not allowed.\n",
              "  inputElement.disabled = true;\n",
              "\n",
              "  if (!files) {\n",
              "    return {\n",
              "      response: {\n",
              "        action: 'complete',\n",
              "      }\n",
              "    };\n",
              "  }\n",
              "\n",
              "  for (const file of files) {\n",
              "    const li = document.createElement('li');\n",
              "    li.append(span(file.name, {fontWeight: 'bold'}));\n",
              "    li.append(span(\n",
              "        `(${file.type || 'n/a'}) - ${file.size} bytes, ` +\n",
              "        `last modified: ${\n",
              "            file.lastModifiedDate ? file.lastModifiedDate.toLocaleDateString() :\n",
              "                                    'n/a'} - `));\n",
              "    const percent = span('0% done');\n",
              "    li.appendChild(percent);\n",
              "\n",
              "    outputElement.appendChild(li);\n",
              "\n",
              "    const fileDataPromise = new Promise((resolve) => {\n",
              "      const reader = new FileReader();\n",
              "      reader.onload = (e) => {\n",
              "        resolve(e.target.result);\n",
              "      };\n",
              "      reader.readAsArrayBuffer(file);\n",
              "    });\n",
              "    // Wait for the data to be ready.\n",
              "    let fileData = yield {\n",
              "      promise: fileDataPromise,\n",
              "      response: {\n",
              "        action: 'continue',\n",
              "      }\n",
              "    };\n",
              "\n",
              "    // Use a chunked sending to avoid message size limits. See b/62115660.\n",
              "    let position = 0;\n",
              "    do {\n",
              "      const length = Math.min(fileData.byteLength - position, MAX_PAYLOAD_SIZE);\n",
              "      const chunk = new Uint8Array(fileData, position, length);\n",
              "      position += length;\n",
              "\n",
              "      const base64 = btoa(String.fromCharCode.apply(null, chunk));\n",
              "      yield {\n",
              "        response: {\n",
              "          action: 'append',\n",
              "          file: file.name,\n",
              "          data: base64,\n",
              "        },\n",
              "      };\n",
              "\n",
              "      let percentDone = fileData.byteLength === 0 ?\n",
              "          100 :\n",
              "          Math.round((position / fileData.byteLength) * 100);\n",
              "      percent.textContent = `${percentDone}% done`;\n",
              "\n",
              "    } while (position < fileData.byteLength);\n",
              "  }\n",
              "\n",
              "  // All done.\n",
              "  yield {\n",
              "    response: {\n",
              "      action: 'complete',\n",
              "    }\n",
              "  };\n",
              "}\n",
              "\n",
              "scope.google = scope.google || {};\n",
              "scope.google.colab = scope.google.colab || {};\n",
              "scope.google.colab._files = {\n",
              "  _uploadFiles,\n",
              "  _uploadFilesContinue,\n",
              "};\n",
              "})(self);\n",
              "</script> "
            ]
          },
          "metadata": {}
        },
        {
          "output_type": "stream",
          "name": "stdout",
          "text": [
            "Saving kaggle.json to kaggle (1).json\n",
            "Dataset URL: https://www.kaggle.com/datasets/wolfram77/graphs-snap-web\n",
            "License(s): Attribution 4.0 International (CC BY 4.0)\n",
            "graphs-snap-web.zip: Skipping, found more recently modified local copy (use --force to force download)\n",
            "Archive:  graphs-snap-web.zip\n",
            "replace graphs-snap-web/web-BerkStan.mtx? [y]es, [n]o, [A]ll, [N]one, [r]ename: no\n",
            "replace graphs-snap-web/web-Google.mtx? [y]es, [n]o, [A]ll, [N]one, [r]ename: no\n",
            "replace graphs-snap-web/web-NotreDame.mtx? [y]es, [n]o, [A]ll, [N]one, [r]ename: no\n",
            "replace graphs-snap-web/web-Stanford.mtx? [y]es, [n]o, [A]ll, [N]one, [r]ename: no\n"
          ]
        }
      ]
    },
    {
      "cell_type": "markdown",
      "source": [
        "#List Directory Contents"
      ],
      "metadata": {
        "id": "Dguskt8rwuOu"
      }
    },
    {
      "cell_type": "code",
      "source": [
        "import os\n",
        "\n",
        "os.listdir('graphs-snap-web')\n"
      ],
      "metadata": {
        "colab": {
          "base_uri": "https://localhost:8080/"
        },
        "id": "-VklEg12qB_9",
        "outputId": "83076fb0-e65f-4887-aca3-eb52b667bf53"
      },
      "execution_count": null,
      "outputs": [
        {
          "output_type": "execute_result",
          "data": {
            "text/plain": [
              "['web-Google.mtx', 'web-Stanford.mtx', 'web-NotreDame.mtx', 'web-BerkStan.mtx']"
            ]
          },
          "metadata": {},
          "execution_count": 2
        }
      ]
    },
    {
      "cell_type": "markdown",
      "source": [
        "#Read and Process Sparse Matrix"
      ],
      "metadata": {
        "id": "XDVaI3fExE2l"
      }
    },
    {
      "cell_type": "code",
      "source": [
        "import numpy as np\n",
        "from scipy.io import mmread\n",
        "\n",
        "file_path = \"graphs-snap-web/web-BerkStan.mtx\"\n",
        "adj_matrix = mmread(file_path).tocsc()\n",
        "adj_matrix = adj_matrix[:subset_size, :subset_size]"
      ],
      "metadata": {
        "id": "kyTBpi7HqCOl"
      },
      "execution_count": null,
      "outputs": []
    },
    {
      "cell_type": "markdown",
      "source": [
        "#   Compute Transition Probability Matrix"
      ],
      "metadata": {
        "id": "TdGLv5whxWP7"
      }
    },
    {
      "cell_type": "code",
      "source": [
        "import numpy as np\n",
        "\n",
        "def compute_transition_matrix(adj_mat):\n",
        "    outgoing_links = np.array(adj_mat.sum(axis=0)).flatten()\n",
        "    outgoing_links[outgoing_links == 0] = 1\n",
        "    T = adj_mat.copy().astype(float)\n",
        "    for col in range(T.shape[1]):\n",
        "        T[:, col] /= outgoing_links[col]\n",
        "    return T\n",
        "\n",
        "transition_mat = compute_transition_matrix(adj_matrix)"
      ],
      "metadata": {
        "id": "DPM0ofbXJanx"
      },
      "execution_count": null,
      "outputs": []
    },
    {
      "cell_type": "markdown",
      "source": [
        "#Adjust Dead Ends in Transition Matrix\n",
        "# (Dangling Nodes)"
      ],
      "metadata": {
        "id": "zZgxzE5tjBfy"
      }
    },
    {
      "cell_type": "code",
      "source": [
        "def adjust_dead_ends(transition_mat):\n",
        "\n",
        "    num_pages = transition_mat.shape[0]\n",
        "    dead_ends = np.where(transition_mat.sum(axis=0) == 0)[1]\n",
        "\n",
        "    for col in dead_ends:\n",
        "        transition_mat[:, col] = 1 / num_pages\n",
        "\n",
        "    return transition_mat\n",
        "\n",
        "adjusted_mat = adjust_dead_ends(transition_mat)\n",
        "\n",
        "\n"
      ],
      "metadata": {
        "colab": {
          "base_uri": "https://localhost:8080/"
        },
        "id": "42CZdoH4fcbe",
        "outputId": "56af1f13-273f-4662-f556-60555f16f6cd"
      },
      "execution_count": null,
      "outputs": [
        {
          "output_type": "stream",
          "name": "stderr",
          "text": [
            "/usr/local/lib/python3.11/dist-packages/scipy/sparse/_index.py:151: SparseEfficiencyWarning: Changing the sparsity structure of a csc_matrix is expensive. lil_matrix is more efficient.\n",
            "  self._set_arrayXarray(i, j, x)\n"
          ]
        }
      ]
    },
    {
      "cell_type": "markdown",
      "source": [
        "# Generate PageRank Matrix"
      ],
      "metadata": {
        "id": "hJx2_NcCis6J"
      }
    },
    {
      "cell_type": "code",
      "source": [
        "def generate_rank_matrix(transition_mat, damping_factor=0.7):\n",
        "\n",
        "    num_nodes = transition_mat.shape[0]\n",
        "    uniform_matrix = np.ones((num_nodes, num_nodes)) / num_nodes\n",
        "    rank_matrix = damping_factor * transition_mat + (1 - damping_factor) * uniform_matrix\n",
        "    return rank_matrix\n",
        "\n",
        "final_rank_matrix = generate_rank_matrix(adjusted_mat)\n"
      ],
      "metadata": {
        "id": "nPe9kxvafmCM"
      },
      "execution_count": null,
      "outputs": []
    },
    {
      "cell_type": "markdown",
      "source": [
        "Calculate Eigenvector of a Matrix Using numpy.linalg"
      ],
      "metadata": {
        "id": "x3Tmpy1Rxi4K"
      }
    },
    {
      "cell_type": "code",
      "source": [
        "import numpy as np\n",
        "\n",
        "def calculate_rank_eigen(rank_matrix):\n",
        "\n",
        "    eigen_vals, eigen_vecs = np.linalg.eig(rank_matrix)\n",
        "\n",
        "    principal_idx = np.argmin(np.abs(eigen_vals - 1))\n",
        "    rank_scores = np.real(eigen_vecs[:, principal_idx])\n",
        "    rank_scores /= np.sum(rank_scores)\n",
        "\n",
        "    return rank_scores\n",
        "\n",
        "eigen_pagerank = calculate_rank_eigen(final_rank_matrix)\n",
        "eigen_pagerank = np.array(eigen_pagerank).flatten()\n",
        "top_20_nodes = np.argsort(-eigen_pagerank)[:20]\n",
        "print(\"Top 20 pages by PageRank (First Method):\", top_20_nodes)\n",
        "\n",
        "\n"
      ],
      "metadata": {
        "colab": {
          "base_uri": "https://localhost:8080/"
        },
        "id": "jetA64pgruFs",
        "outputId": "1f4f6996-f60e-4861-faed-77ace81cfb3e"
      },
      "execution_count": null,
      "outputs": [
        {
          "output_type": "stream",
          "name": "stdout",
          "text": [
            "Top 20 pages by PageRank (First Method): [509 860 612 692 702 371 564 459 256 425 295 717 329 741 197 699 232 160\n",
            " 909 812]\n"
          ]
        }
      ]
    },
    {
      "cell_type": "markdown",
      "source": [
        "#Calculate PageRank Using Power Iteration Method"
      ],
      "metadata": {
        "id": "eP5zfyJzx54d"
      }
    },
    {
      "cell_type": "code",
      "source": [
        "\n",
        "def power_iteration_pagerank(rank_matrix, max_steps=100, tolerance=1e-6):\n",
        "\n",
        "    rank_matrix = np.array(rank_matrix)\n",
        "    num_nodes = rank_matrix.shape[0]\n",
        "    rank_vector = np.ones(num_nodes) / num_nodes\n",
        "\n",
        "    for _ in range(max_steps):\n",
        "\n",
        "        updated_rank = rank_matrix @ rank_vector\n",
        "        updated_rank /= np.sum(updated_rank)\n",
        "        if np.linalg.norm(updated_rank - rank_vector, 1) < tolerance:\n",
        "            break\n",
        "\n",
        "        rank_vector = updated_rank\n",
        "\n",
        "    return rank_vector\n",
        "\n",
        "iterative_pagerank = power_iteration_pagerank(final_rank_matrix)\n",
        "top_20_nodes_power = np.argsort(-iterative_pagerank)[:20]\n",
        "print(\"Top 20 pages by PageRank (Power Iteration):\", top_20_nodes_power)\n",
        "\n",
        "\n"
      ],
      "metadata": {
        "colab": {
          "base_uri": "https://localhost:8080/"
        },
        "id": "cvUBxWysruXM",
        "outputId": "62ee18d2-ed5e-4bb1-f9c9-820409abdf0c"
      },
      "execution_count": null,
      "outputs": [
        {
          "output_type": "stream",
          "name": "stdout",
          "text": [
            "Top 20 pages by PageRank (Power Iteration): [509 860 612 692 702 371 564 459 256 425 295 717 329 741 197 699 232 160\n",
            " 909 812]\n"
          ]
        }
      ]
    },
    {
      "cell_type": "markdown",
      "source": [
        "----------------------------------------------------------------------------------------------------------------------------------------------------------------------------------------------------------------------------------------------------------------------------------------------------------------------------------------------------------------------------------------------------------------------------------------------------------------------------------------------------------\n"
      ],
      "metadata": {
        "id": "Qmcl-k4W5JiD"
      }
    },
    {
      "cell_type": "markdown",
      "source": [
        "#Implement PageRank Using NetworkX"
      ],
      "metadata": {
        "id": "LY4USCld5bQ6"
      }
    },
    {
      "cell_type": "markdown",
      "source": [
        "#Create Directed Graph and Compute PageRank Using NetworkX"
      ],
      "metadata": {
        "id": "kcvqgOR2fNy5"
      }
    },
    {
      "cell_type": "code",
      "source": [
        "import networkx as nx\n",
        "import numpy as np\n",
        "\n",
        "def calculate_pagerank_graph(adj_mat, damping_factor=0.7):\n",
        "\n",
        "    graph = nx.DiGraph()\n",
        "    src_nodes, dst_nodes = adj_mat.nonzero()\n",
        "    graph_edges = list(zip(dst_nodes, src_nodes))\n",
        "    graph.add_edges_from(graph_edges)\n",
        "\n",
        "    rank_scores = nx.pagerank(graph, alpha=damping_factor)\n",
        "\n",
        "    return rank_scores\n",
        "\n",
        "    graph_pagerank = calculate_pagerank_graph(adj_matrix)\n",
        "    rank_values = np.array(list(graph_pagerank.values()))\n",
        "    top_20_nodes_nx = np.argsort(-rank_values)[:20]\n",
        "\n",
        "\n"
      ],
      "metadata": {
        "id": "AgHTZgKe4Vic"
      },
      "execution_count": null,
      "outputs": []
    },
    {
      "cell_type": "markdown",
      "source": [
        "#Compare Methods"
      ],
      "metadata": {
        "id": "UWHzI8Kmw62e"
      }
    },
    {
      "cell_type": "code",
      "source": [
        "print(\"Top 20 pages by PageRank (First Method):\", top_20_nodes)\n",
        "print(\"Top 20 pages by Power Iteration:\", top_20_nodes_power)\n",
        "print(\"Top 20 pages by NetworkX:\", top_20_nodes_nx)\n",
        "\n"
      ],
      "metadata": {
        "colab": {
          "base_uri": "https://localhost:8080/"
        },
        "id": "3WbM0wpA569X",
        "outputId": "90c720c4-ff9f-4075-cbf2-d0ce9f978e88"
      },
      "execution_count": null,
      "outputs": [
        {
          "output_type": "stream",
          "name": "stdout",
          "text": [
            "Top 20 pages by PageRank (First Method): [509 860 612 692 702 371 564 459 256 425 295 717 329 741 197 699 232 160\n",
            " 909 812]\n",
            "Top 20 pages by Power Iteration: [509 860 612 692 702 371 564 459 256 425 295 717 329 741 197 699 232 160\n",
            " 909 812]\n",
            "Top 20 pages by NetworkX: [526 823 627 680  56 385 583 477 268 438 311  58 349 746 199 128 237 166\n",
            " 890 821]\n"
          ]
        }
      ]
    },
    {
      "cell_type": "markdown",
      "source": [
        "#Compare Power Iteration and NetworkX PageRank Methods"
      ],
      "metadata": {
        "id": "Gsy1OP1ZvcHc"
      }
    },
    {
      "cell_type": "code",
      "source": [
        "import networkx as nx\n",
        "import numpy as np\n",
        "import matplotlib.pyplot as plt\n",
        "from scipy.io import mmread\n",
        "from scipy.sparse import csc_matrix\n",
        "\n",
        "file_path = \"graphs-snap-web/web-BerkStan.mtx\"\n",
        "adj_matrix = mmread(file_path).tocsc()\n",
        "small_matrix = adj_matrix[:1000, :1000].copy()\n",
        "\n",
        "G = nx.from_scipy_sparse_array(small_matrix, create_using=nx.DiGraph)\n",
        "\n",
        "def pagerank_power_iteration(G, alpha=0.7, tol=1e-6, max_iter=100):\n",
        "    nodes = list(G.nodes())\n",
        "    N = len(nodes)\n",
        "    M = nx.to_scipy_sparse_array(G, nodelist=nodes, dtype=float, format=\"csr\")\n",
        "\n",
        "    column_sums = np.array(M.sum(axis=0)).flatten()\n",
        "    column_sums[column_sums == 0] = 1\n",
        "    M = M.multiply(1 / column_sums)\n",
        "\n",
        "    v = np.ones(N) / N\n",
        "    teleport = np.ones(N) / N\n",
        "\n",
        "    for _ in range(max_iter):\n",
        "        v_new = alpha * (M @ v) + (1 - alpha) * teleport\n",
        "        if np.linalg.norm(v_new - v, 1) < tol:\n",
        "            break\n",
        "        v = v_new\n",
        "\n",
        "    return {node: score for node, score in zip(nodes, v)}\n",
        "\n",
        "alpha_values = np.linspace(0.1, 0.99, 50)\n",
        "norm_diff_results = []\n",
        "\n",
        "for alpha in alpha_values:\n",
        "    pr_manual = pagerank_power_iteration(G, alpha)\n",
        "\n",
        "    try:\n",
        "        pr_nx = nx.pagerank(G, alpha=alpha, max_iter=500, tol=1e-4)\n",
        "    except nx.PowerIterationFailedConvergence:\n",
        "        print(f\"Warning: NetworkX PageRank did not converge for alpha = {alpha}\")\n",
        "        continue\n",
        "\n",
        "    manual_values = np.array(list(pr_manual.values()))\n",
        "    nx_values = np.array([pr_nx[node] for node in G.nodes()])\n",
        "    norm_diff = np.linalg.norm(manual_values - nx_values, ord=1)\n",
        "    norm_diff_results.append(norm_diff)\n",
        "\n",
        "plt.figure(figsize=(10, 6))\n",
        "plt.plot(alpha_values[:len(norm_diff_results)], norm_diff_results, marker='s', color='g')\n",
        "plt.xlabel(\"Alpha (Damping Factor)\")\n",
        "plt.ylabel(\"L1 Norm Difference (Manual vs NetworkX)\")\n",
        "plt.title(\"Difference Between Power Iteration and NetworkX PageRank\")\n",
        "plt.grid(True)\n",
        "plt.show()\n"
      ],
      "metadata": {
        "colab": {
          "base_uri": "https://localhost:8080/",
          "height": 564
        },
        "id": "kI-H5NektGtB",
        "outputId": "41198d15-273b-4bb9-ceae-fc173d02cf85"
      },
      "execution_count": null,
      "outputs": [
        {
          "output_type": "display_data",
          "data": {
            "text/plain": [
              "<Figure size 1000x600 with 1 Axes>"
            ],
            "image/png": "[encoded data removed]"
          },
          "metadata": {}
        }
      ]
    }
  ]
}